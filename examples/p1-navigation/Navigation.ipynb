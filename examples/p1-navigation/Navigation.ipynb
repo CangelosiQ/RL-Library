{
 "cells": [
  {
   "cell_type": "markdown",
   "metadata": {},
   "source": [
    "# Navigation\n",
    "\n",
    "---\n",
    "\n",
    "In this notebook, you will learn how to use the Unity ML-Agents environment for the first project of the [Deep Reinforcement Learning Nanodegree](https://www.udacity.com/course/deep-reinforcement-learning-nanodegree--nd893).\n",
    "\n",
    "### 1. Start the Environment\n",
    "\n",
    "We begin by importing some necessary packages.  If the code cell below returns an error, please revisit the project instructions to double-check that you have installed [Unity ML-Agents](https://github.com/Unity-Technologies/ml-agents/blob/master/docs/Installation.md) and [NumPy](http://www.numpy.org/)."
   ]
  },
  {
   "cell_type": "code",
   "execution_count": 1,
   "metadata": {},
   "outputs": [],
   "source": [
    "from pathlib import Path\n",
    "from unityagents import UnityEnvironment\n",
    "import numpy as np\n",
    "import logging\n",
    "import os\n",
    "import pandas as pd"
   ]
  },
  {
   "cell_type": "markdown",
   "metadata": {},
   "source": [
    "Next, we will start the environment!  **_Before running the code cell below_**, change the `file_name` parameter to match the location of the Unity environment that you downloaded.\n",
    "\n",
    "- **Mac**: `\"path/to/Banana.app\"`\n",
    "- **Windows** (x86): `\"path/to/Banana_Windows_x86/Banana.exe\"`\n",
    "- **Windows** (x86_64): `\"path/to/Banana_Windows_x86_64/Banana.exe\"`\n",
    "- **Linux** (x86): `\"path/to/Banana_Linux/Banana.x86\"`\n",
    "- **Linux** (x86_64): `\"path/to/Banana_Linux/Banana.x86_64\"`\n",
    "- **Linux** (x86, headless): `\"path/to/Banana_Linux_NoVis/Banana.x86\"`\n",
    "- **Linux** (x86_64, headless): `\"path/to/Banana_Linux_NoVis/Banana.x86_64\"`\n",
    "\n",
    "For instance, if you are using a Mac, then you downloaded `Banana.app`.  If this file is in the same folder as the notebook, then the line below should appear as follows:\n",
    "```\n",
    "env = UnityEnvironment(file_name=\"Banana.app\")\n",
    "```"
   ]
  },
  {
   "cell_type": "code",
   "execution_count": 2,
   "metadata": {},
   "outputs": [
    {
     "name": "stderr",
     "output_type": "stream",
     "text": [
      "INFO:unityagents:\n",
      "'Academy' started successfully!\n",
      "Unity Academy name: Academy\n",
      "        Number of Brains: 1\n",
      "        Number of External Brains : 1\n",
      "        Lesson number : 0\n",
      "        Reset Parameters :\n",
      "\t\t\n",
      "Unity brain name: BananaBrain\n",
      "        Number of Visual Observations (per agent): 0\n",
      "        Vector Observation space type: continuous\n",
      "        Vector Observation space size (per agent): 37\n",
      "        Number of stacked Vector Observation: 1\n",
      "        Vector Action space type: discrete\n",
      "        Vector Action space size (per agent): 4\n",
      "        Vector Action descriptions: , , , \n"
     ]
    }
   ],
   "source": [
    "env = UnityEnvironment(file_name=\"./Banana\")"
   ]
  },
  {
   "cell_type": "markdown",
   "metadata": {},
   "source": [
    "Environments contain **_brains_** which are responsible for deciding the actions of their associated agents. Here we check for the first brain available, and set it as the default brain we will be controlling from Python."
   ]
  },
  {
   "cell_type": "code",
   "execution_count": 3,
   "metadata": {},
   "outputs": [],
   "source": [
    "# get the default brain\n",
    "brain_name = env.brain_names[0]\n",
    "brain = env.brains[brain_name]"
   ]
  },
  {
   "cell_type": "markdown",
   "metadata": {},
   "source": [
    "### 2. Build the RL-Library\n",
    "The core classes and algorithms used to solve this project are packaged in a python module. The following 2 cells will first change the current directory to the root of the repository, then install the python package. "
   ]
  },
  {
   "cell_type": "markdown",
   "metadata": {},
   "source": [
    "Change Current Working Directory to the root of the repository."
   ]
  },
  {
   "cell_type": "code",
   "execution_count": 4,
   "metadata": {},
   "outputs": [
    {
     "data": {
      "text/plain": [
       "'/Users/quentincangelosi/Documents/5. Other/2. DataScience/github/RL-Library'"
      ]
     },
     "execution_count": 4,
     "metadata": {},
     "output_type": "execute_result"
    }
   ],
   "source": [
    "cwd = os.path.abspath('')\n",
    "os.chdir(Path(cwd).parents[1])\n",
    "os.getcwd()"
   ]
  },
  {
   "cell_type": "markdown",
   "metadata": {},
   "source": [
    "[OPTIONAL]: If you haven't already, install the package requirements."
   ]
  },
  {
   "cell_type": "code",
   "execution_count": 5,
   "metadata": {
    "scrolled": true
   },
   "outputs": [
    {
     "name": "stdout",
     "output_type": "stream",
     "text": [
      "Requirement already satisfied: pandas==1.1.2 in /Users/quentincangelosi/anaconda3/lib/python3.7/site-packages (from -r requirements.txt (line 1)) (1.1.2)\n",
      "Requirement already satisfied: numpy==1.19.2 in /Users/quentincangelosi/anaconda3/lib/python3.7/site-packages (from -r requirements.txt (line 2)) (1.19.2)\n",
      "Collecting matplotlib==3.3.2 (from -r requirements.txt (line 3))\n",
      "  Using cached https://files.pythonhosted.org/packages/63/f0/c2c11e34d43f657df8ae05be5fa991200a2ed576e3694244a9dc766c14c3/matplotlib-3.3.2-cp37-cp37m-macosx_10_9_x86_64.whl\n",
      "Collecting seaborn==0.11.0 (from -r requirements.txt (line 4))\n",
      "  Using cached https://files.pythonhosted.org/packages/bc/45/5118a05b0d61173e6eb12bc5804f0fbb6f196adb0a20e0b16efc2b8e98be/seaborn-0.11.0-py3-none-any.whl\n",
      "Requirement already satisfied: torch==1.6.0 in /Users/quentincangelosi/anaconda3/lib/python3.7/site-packages (from -r requirements.txt (line 7)) (1.6.0)\n",
      "Requirement already satisfied: gym==0.17.2 in /Users/quentincangelosi/anaconda3/lib/python3.7/site-packages (from -r requirements.txt (line 10)) (0.17.2)\n",
      "Requirement already satisfied: pytz>=2017.2 in /Users/quentincangelosi/anaconda3/lib/python3.7/site-packages (from pandas==1.1.2->-r requirements.txt (line 1)) (2019.1)\n",
      "Requirement already satisfied: python-dateutil>=2.7.3 in /Users/quentincangelosi/anaconda3/lib/python3.7/site-packages (from pandas==1.1.2->-r requirements.txt (line 1)) (2.8.0)\n",
      "Requirement already satisfied: pyparsing!=2.0.4,!=2.1.2,!=2.1.6,>=2.0.3 in /Users/quentincangelosi/anaconda3/lib/python3.7/site-packages (from matplotlib==3.3.2->-r requirements.txt (line 3)) (2.4.0)\n",
      "Collecting certifi>=2020.06.20 (from matplotlib==3.3.2->-r requirements.txt (line 3))\n",
      "  Using cached https://files.pythonhosted.org/packages/5e/c4/6c4fe722df5343c33226f0b4e0bb042e4dc13483228b4718baf286f86d87/certifi-2020.6.20-py2.py3-none-any.whl\n",
      "Requirement already satisfied: kiwisolver>=1.0.1 in /Users/quentincangelosi/anaconda3/lib/python3.7/site-packages (from matplotlib==3.3.2->-r requirements.txt (line 3)) (1.1.0)\n",
      "Requirement already satisfied: cycler>=0.10 in /Users/quentincangelosi/anaconda3/lib/python3.7/site-packages (from matplotlib==3.3.2->-r requirements.txt (line 3)) (0.10.0)\n",
      "Requirement already satisfied: pillow>=6.2.0 in /Users/quentincangelosi/anaconda3/lib/python3.7/site-packages (from matplotlib==3.3.2->-r requirements.txt (line 3)) (7.2.0)\n",
      "Requirement already satisfied: scipy>=1.0 in /Users/quentincangelosi/anaconda3/lib/python3.7/site-packages (from seaborn==0.11.0->-r requirements.txt (line 4)) (1.3.0)\n",
      "Requirement already satisfied: future in /Users/quentincangelosi/anaconda3/lib/python3.7/site-packages (from torch==1.6.0->-r requirements.txt (line 7)) (0.18.2)\n",
      "Requirement already satisfied: cloudpickle<1.4.0,>=1.2.0 in /Users/quentincangelosi/anaconda3/lib/python3.7/site-packages (from gym==0.17.2->-r requirements.txt (line 10)) (1.2.1)\n",
      "Requirement already satisfied: pyglet<=1.5.0,>=1.4.0 in /Users/quentincangelosi/anaconda3/lib/python3.7/site-packages (from gym==0.17.2->-r requirements.txt (line 10)) (1.5.0)\n",
      "Requirement already satisfied: six>=1.5 in /Users/quentincangelosi/anaconda3/lib/python3.7/site-packages (from python-dateutil>=2.7.3->pandas==1.1.2->-r requirements.txt (line 1)) (1.12.0)\n",
      "Requirement already satisfied: setuptools in /Users/quentincangelosi/anaconda3/lib/python3.7/site-packages (from kiwisolver>=1.0.1->matplotlib==3.3.2->-r requirements.txt (line 3)) (50.3.0)\n",
      "Installing collected packages: certifi, matplotlib, seaborn\n",
      "  Found existing installation: certifi 2019.6.16\n",
      "\u001b[31mERROR: Cannot uninstall 'certifi'. It is a distutils installed project and thus we cannot accurately determine which files belong to it which would lead to only a partial uninstall.\u001b[0m\n"
     ]
    }
   ],
   "source": [
    "!pip install -r requirements.txt"
   ]
  },
  {
   "cell_type": "markdown",
   "metadata": {},
   "source": [
    "Install the rl_library package.\n",
    "\n",
    "**Important Note:** It seems that even though your jupyter notebook is running in an environment (conda) XYZ, the pip install command below might not install the package in the environment XYZ. Thus you might want to run this in a terminal at the root of the repository with the correct python environment activated."
   ]
  },
  {
   "cell_type": "code",
   "execution_count": 6,
   "metadata": {},
   "outputs": [
    {
     "name": "stdout",
     "output_type": "stream",
     "text": [
      "Obtaining file:///Users/quentincangelosi/Documents/5.%20Other/2.%20DataScience/github/RL-Library\n",
      "Requirement already satisfied: Click>=7.0 in /Users/quentincangelosi/anaconda3/lib/python3.7/site-packages (from rl-library==0.0.1) (7.0)\n",
      "Installing collected packages: rl-library\n",
      "  Found existing installation: rl-library 0.0.1\n",
      "    Uninstalling rl-library-0.0.1:\n",
      "      Successfully uninstalled rl-library-0.0.1\n",
      "  Running setup.py develop for rl-library\n",
      "Successfully installed rl-library\n"
     ]
    }
   ],
   "source": [
    "!pip install -e ."
   ]
  },
  {
   "cell_type": "code",
   "execution_count": 7,
   "metadata": {},
   "outputs": [],
   "source": [
    "from rl_library.monitors import unity_monitor\n",
    "from rl_library.agents import DQAgent"
   ]
  },
  {
   "cell_type": "markdown",
   "metadata": {},
   "source": [
    "Revert current working directory to examples/navigation."
   ]
  },
  {
   "cell_type": "code",
   "execution_count": 8,
   "metadata": {},
   "outputs": [
    {
     "data": {
      "text/plain": [
       "'/Users/quentincangelosi/Documents/5. Other/2. DataScience/github/RL-Library/examples/navigation'"
      ]
     },
     "execution_count": 8,
     "metadata": {},
     "output_type": "execute_result"
    }
   ],
   "source": [
    "os.chdir(cwd)\n",
    "os.getcwd()"
   ]
  },
  {
   "cell_type": "markdown",
   "metadata": {},
   "source": [
    "### 3. Important Input Parameters"
   ]
  },
  {
   "cell_type": "markdown",
   "metadata": {},
   "source": [
    "The following are input parameters that can be changed to generate new solutions:\n",
    "\n",
    "    - hidden_layer_sizes: List of hidden layers sizes for the Deep-Q-Network (a standard feed-forward fully connected neural network architecture)\n",
    "    - options: List of options to improve the Deep Q Learning algorithm. Possible values:\n",
    "        - \"double-q-learning\": to enhance Deep Q Learning into Double Deep Q Learning\n",
    "        - \"prioritized-replay\": to enhance the experience replay into prioritized experience replay\n",
    "    - mode: Enable training or testing phase\n",
    "    - save_path: Where the results will be located"
   ]
  },
  {
   "cell_type": "code",
   "execution_count": 9,
   "metadata": {},
   "outputs": [],
   "source": [
    "hidden_layer_sizes = [20, 15, 8]\n",
    "options = [\"double-q-learning\"]     # [\"double-q-learning\", \"prioritized-replay\"]\n",
    "mode = \"train\"                      # \"train\" or \"test\"\n",
    "save_path = f\"DDQN_\" + \"_\".join([str(sz) for sz in hidden_layer_sizes])\n",
    "os.makedirs(save_path, exist_ok=True)"
   ]
  },
  {
   "cell_type": "markdown",
   "metadata": {},
   "source": [
    "Initiate a logger to record logs of the simulations."
   ]
  },
  {
   "cell_type": "code",
   "execution_count": 10,
   "metadata": {},
   "outputs": [],
   "source": [
    "# Logger\n",
    "logger = logging.getLogger()\n",
    "handler = logging.FileHandler(f\"{save_path}/logs_navigation_{pd.Timestamp.utcnow().value}.log\")\n",
    "stream_handler = logging.StreamHandler()\n",
    "logger.addHandler(handler)\n",
    "logger.addHandler(stream_handler)"
   ]
  },
  {
   "cell_type": "markdown",
   "metadata": {},
   "source": [
    "### 4. Examine the State and Action Spaces\n",
    "\n",
    "The simulation contains a single agent that navigates a large environment.  At each time step, it has four actions at its disposal:\n",
    "- `0` - walk forward \n",
    "- `1` - walk backward\n",
    "- `2` - turn left\n",
    "- `3` - turn right\n",
    "\n",
    "The state space has `37` dimensions and contains the agent's velocity, along with ray-based perception of objects around agent's forward direction.  A reward of `+1` is provided for collecting a yellow banana, and a reward of `-1` is provided for collecting a blue banana. \n",
    "\n",
    "Run the code cell below to print some information about the environment."
   ]
  },
  {
   "cell_type": "code",
   "execution_count": 11,
   "metadata": {},
   "outputs": [
    {
     "name": "stderr",
     "output_type": "stream",
     "text": [
      "INFO:root:Number of agents: 1\n",
      "Number of agents: 1\n",
      "INFO:root:Number of actions: 4\n",
      "Number of actions: 4\n",
      "INFO:root:States look like: [1.         0.         0.         0.         0.84408134 0.\n",
      " 0.         1.         0.         0.0748472  0.         1.\n",
      " 0.         0.         0.25755    1.         0.         0.\n",
      " 0.         0.74177343 0.         1.         0.         0.\n",
      " 0.25854847 0.         0.         1.         0.         0.09355672\n",
      " 0.         1.         0.         0.         0.31969345 0.\n",
      " 0.        ]\n",
      "States look like: [1.         0.         0.         0.         0.84408134 0.\n",
      " 0.         1.         0.         0.0748472  0.         1.\n",
      " 0.         0.         0.25755    1.         0.         0.\n",
      " 0.         0.74177343 0.         1.         0.         0.\n",
      " 0.25854847 0.         0.         1.         0.         0.09355672\n",
      " 0.         1.         0.         0.         0.31969345 0.\n",
      " 0.        ]\n",
      "INFO:root:States have length: 37\n",
      "States have length: 37\n"
     ]
    }
   ],
   "source": [
    "# reset the environment\n",
    "env_info = env.reset(train_mode=True)[brain_name]\n",
    "\n",
    "# number of agents in the environment\n",
    "logger.info(f'Number of agents: {len(env_info.agents)}')\n",
    "\n",
    "# number of actions\n",
    "action_size = brain.vector_action_space_size\n",
    "logger.info(f'Number of actions: {action_size}')\n",
    "\n",
    "# examine the state space\n",
    "state = env_info.vector_observations[0]\n",
    "logger.info(f'States look like: {state}')\n",
    "state_size = len(state)\n",
    "logger.info(f'States have length: {state_size}')"
   ]
  },
  {
   "cell_type": "markdown",
   "metadata": {},
   "source": [
    "### 5. Train the Agent"
   ]
  },
  {
   "cell_type": "markdown",
   "metadata": {},
   "source": [
    "In the following cell, the agent is going to be trained to solve the navigation problem. \n",
    "More information about the classes and functions used can be found in Report.md"
   ]
  },
  {
   "cell_type": "code",
   "execution_count": 12,
   "metadata": {
    "scrolled": false
   },
   "outputs": [
    {
     "name": "stderr",
     "output_type": "stream",
     "text": [
      "INFO:root:Initialized model: Sequential(\n",
      "  (fc0): Linear(in_features=37, out_features=20, bias=True)\n",
      "  (relu0): ReLU()\n",
      "  (fc1): Linear(in_features=20, out_features=15, bias=True)\n",
      "  (relu1): ReLU()\n",
      "  (fc2): Linear(in_features=15, out_features=8, bias=True)\n",
      "  (relu2): ReLU()\n",
      "  (output): Linear(in_features=8, out_features=4, bias=True)\n",
      "  (softmax): Softmax(dim=1)\n",
      ")\n",
      "Initialized model: Sequential(\n",
      "  (fc0): Linear(in_features=37, out_features=20, bias=True)\n",
      "  (relu0): ReLU()\n",
      "  (fc1): Linear(in_features=20, out_features=15, bias=True)\n",
      "  (relu1): ReLU()\n",
      "  (fc2): Linear(in_features=15, out_features=8, bias=True)\n",
      "  (relu2): ReLU()\n",
      "  (output): Linear(in_features=8, out_features=4, bias=True)\n",
      "  (softmax): Softmax(dim=1)\n",
      ")\n",
      "INFO:root:Using Double Q-Learning.\n",
      "Using Double Q-Learning.\n",
      "/Users/quentincangelosi/Documents/5. Other/2. DataScience/github/RL-Library/rl_library/agents/dqn_agent.py:308: VisibleDeprecationWarning: Creating an ndarray from ragged nested sequences (which is a list-or-tuple of lists-or-tuples-or ndarrays with different lengths or shapes) is deprecated. If you meant to do this, you must specify 'dtype=object' when creating the ndarray\n",
      "  experiences = np.array(self.memory)[experiences_ids]\n"
     ]
    },
    {
     "name": "stdout",
     "output_type": "stream",
     "text": [
      "Episode 99\tAverage Score: 0.82, DQN Avg. Loss: 7.01e-03, Last Score: 2.00, eps: 0.618"
     ]
    },
    {
     "name": "stderr",
     "output_type": "stream",
     "text": [
      "Episode 100\tAverage Score: 0.82, DQN Avg. Loss: 7.53e-03, Last Score: 1.00\n",
      "Episode 100\tAverage Score: 0.82, DQN Avg. Loss: 7.53e-03, Last Score: 1.00\n"
     ]
    },
    {
     "name": "stdout",
     "output_type": "stream",
     "text": [
      "Episode 199\tAverage Score: 1.64, DQN Avg. Loss: 9.62e-03, Last Score: 2.00, eps: 0.378"
     ]
    },
    {
     "name": "stderr",
     "output_type": "stream",
     "text": [
      "Episode 200\tAverage Score: 1.65, DQN Avg. Loss: 9.08e-03, Last Score: 2.00\n",
      "Episode 200\tAverage Score: 1.65, DQN Avg. Loss: 9.08e-03, Last Score: 2.00\n"
     ]
    },
    {
     "name": "stdout",
     "output_type": "stream",
     "text": [
      "Episode 299\tAverage Score: 3.07, DQN Avg. Loss: 1.39e-02, Last Score: 4.00, eps: 0.223"
     ]
    },
    {
     "name": "stderr",
     "output_type": "stream",
     "text": [
      "Episode 300\tAverage Score: 3.06, DQN Avg. Loss: 1.48e-02, Last Score: 1.00\n",
      "Episode 300\tAverage Score: 3.06, DQN Avg. Loss: 1.48e-02, Last Score: 1.00\n"
     ]
    },
    {
     "name": "stdout",
     "output_type": "stream",
     "text": [
      "Episode 399\tAverage Score: 3.57, DQN Avg. Loss: 1.56e-02, Last Score: -1.00, eps: 0.14"
     ]
    },
    {
     "name": "stderr",
     "output_type": "stream",
     "text": [
      "Episode 400\tAverage Score: 3.65, DQN Avg. Loss: 1.47e-02, Last Score: 9.00\n",
      "Episode 400\tAverage Score: 3.65, DQN Avg. Loss: 1.47e-02, Last Score: 9.00\n"
     ]
    },
    {
     "name": "stdout",
     "output_type": "stream",
     "text": [
      "Episode 499\tAverage Score: 4.38, DQN Avg. Loss: 1.63e-02, Last Score: 6.00, eps: 0.088"
     ]
    },
    {
     "name": "stderr",
     "output_type": "stream",
     "text": [
      "Episode 500\tAverage Score: 4.37, DQN Avg. Loss: 1.75e-02, Last Score: 8.00\n",
      "Episode 500\tAverage Score: 4.37, DQN Avg. Loss: 1.75e-02, Last Score: 8.00\n",
      "INFO:root:\n",
      "Saving model to DDQN_20_15_8\n",
      "\n",
      "Saving model to DDQN_20_15_8\n"
     ]
    },
    {
     "name": "stdout",
     "output_type": "stream",
     "text": [
      "Episode 599\tAverage Score: 6.94, DQN Avg. Loss: 1.71e-02, Last Score: 5.00, eps: 0.055"
     ]
    },
    {
     "name": "stderr",
     "output_type": "stream",
     "text": [
      "Episode 600\tAverage Score: 6.92, DQN Avg. Loss: 1.64e-02, Last Score: 6.00\n",
      "Episode 600\tAverage Score: 6.92, DQN Avg. Loss: 1.64e-02, Last Score: 6.00\n"
     ]
    },
    {
     "name": "stdout",
     "output_type": "stream",
     "text": [
      "Episode 699\tAverage Score: 9.66, DQN Avg. Loss: 1.94e-02, Last Score: 6.00, eps: 0.033"
     ]
    },
    {
     "name": "stderr",
     "output_type": "stream",
     "text": [
      "Episode 700\tAverage Score: 9.69, DQN Avg. Loss: 2.07e-02, Last Score: 9.00\n",
      "Episode 700\tAverage Score: 9.69, DQN Avg. Loss: 2.07e-02, Last Score: 9.00\n"
     ]
    },
    {
     "name": "stdout",
     "output_type": "stream",
     "text": [
      "Episode 799\tAverage Score: 11.52, DQN Avg. Loss: 1.89e-02, Last Score: 12.00, eps: 0.02"
     ]
    },
    {
     "name": "stderr",
     "output_type": "stream",
     "text": [
      "Episode 800\tAverage Score: 11.53, DQN Avg. Loss: 2.09e-02, Last Score: 10.00\n",
      "Episode 800\tAverage Score: 11.53, DQN Avg. Loss: 2.09e-02, Last Score: 10.00\n"
     ]
    },
    {
     "name": "stdout",
     "output_type": "stream",
     "text": [
      "Episode 899\tAverage Score: 12.76, DQN Avg. Loss: 1.91e-02, Last Score: 13.00, eps: 0.01"
     ]
    },
    {
     "name": "stderr",
     "output_type": "stream",
     "text": [
      "Episode 900\tAverage Score: 12.76, DQN Avg. Loss: 1.98e-02, Last Score: 10.00\n",
      "Episode 900\tAverage Score: 12.76, DQN Avg. Loss: 1.98e-02, Last Score: 10.00\n"
     ]
    },
    {
     "name": "stdout",
     "output_type": "stream",
     "text": [
      "Episode 999\tAverage Score: 12.90, DQN Avg. Loss: 2.39e-02, Last Score: 12.00, eps: 0.01"
     ]
    },
    {
     "name": "stderr",
     "output_type": "stream",
     "text": [
      "Episode 1000\tAverage Score: 12.95, DQN Avg. Loss: 2.31e-02, Last Score: 15.00\n",
      "Episode 1000\tAverage Score: 12.95, DQN Avg. Loss: 2.31e-02, Last Score: 15.00\n",
      "INFO:root:\n",
      "Saving model to DDQN_20_15_8\n",
      "\n",
      "Saving model to DDQN_20_15_8\n"
     ]
    },
    {
     "name": "stdout",
     "output_type": "stream",
     "text": [
      "Episode 1057\tAverage Score: 13.47, DQN Avg. Loss: 2.37e-02, Last Score: 16.00, eps: 0.01"
     ]
    },
    {
     "name": "stderr",
     "output_type": "stream",
     "text": [
      "WARNING:root:\n",
      "Environment solved in 1058 episodes!\tAverage Score: 13.53\n",
      "\n",
      "Environment solved in 1058 episodes!\tAverage Score: 13.53\n"
     ]
    },
    {
     "name": "stdout",
     "output_type": "stream",
     "text": [
      "Episode 1099\tAverage Score: 14.01, DQN Avg. Loss: 2.22e-02, Last Score: 13.00, eps: 0.01"
     ]
    },
    {
     "name": "stderr",
     "output_type": "stream",
     "text": [
      "Episode 1100\tAverage Score: 14.06, DQN Avg. Loss: 2.52e-02, Last Score: 20.00\n",
      "Episode 1100\tAverage Score: 14.06, DQN Avg. Loss: 2.52e-02, Last Score: 20.00\n"
     ]
    },
    {
     "name": "stdout",
     "output_type": "stream",
     "text": [
      "Episode 1199\tAverage Score: 15.11, DQN Avg. Loss: 2.37e-02, Last Score: 14.00, eps: 0.01"
     ]
    },
    {
     "name": "stderr",
     "output_type": "stream",
     "text": [
      "Episode 1200\tAverage Score: 15.08, DQN Avg. Loss: 2.43e-02, Last Score: 17.00\n",
      "Episode 1200\tAverage Score: 15.08, DQN Avg. Loss: 2.43e-02, Last Score: 17.00\n"
     ]
    },
    {
     "name": "stdout",
     "output_type": "stream",
     "text": [
      "Episode 1299\tAverage Score: 14.70, DQN Avg. Loss: 2.31e-02, Last Score: 14.00, eps: 0.01"
     ]
    },
    {
     "name": "stderr",
     "output_type": "stream",
     "text": [
      "Episode 1300\tAverage Score: 14.68, DQN Avg. Loss: 2.46e-02, Last Score: 15.00\n",
      "Episode 1300\tAverage Score: 14.68, DQN Avg. Loss: 2.46e-02, Last Score: 15.00\n"
     ]
    },
    {
     "name": "stdout",
     "output_type": "stream",
     "text": [
      "Episode 1399\tAverage Score: 14.91, DQN Avg. Loss: 2.47e-02, Last Score: 15.00, eps: 0.01"
     ]
    },
    {
     "name": "stderr",
     "output_type": "stream",
     "text": [
      "Episode 1400\tAverage Score: 14.89, DQN Avg. Loss: 2.51e-02, Last Score: 13.00\n",
      "Episode 1400\tAverage Score: 14.89, DQN Avg. Loss: 2.51e-02, Last Score: 13.00\n"
     ]
    },
    {
     "name": "stdout",
     "output_type": "stream",
     "text": [
      "Episode 1499\tAverage Score: 14.42, DQN Avg. Loss: 2.29e-02, Last Score: 20.00, eps: 0.01"
     ]
    },
    {
     "name": "stderr",
     "output_type": "stream",
     "text": [
      "Episode 1500\tAverage Score: 14.46, DQN Avg. Loss: 2.33e-02, Last Score: 17.00\n",
      "Episode 1500\tAverage Score: 14.46, DQN Avg. Loss: 2.33e-02, Last Score: 17.00\n",
      "INFO:root:\n",
      "Saving model to DDQN_20_15_8\n",
      "\n",
      "Saving model to DDQN_20_15_8\n"
     ]
    },
    {
     "name": "stdout",
     "output_type": "stream",
     "text": [
      "Episode 1599\tAverage Score: 14.54, DQN Avg. Loss: 2.17e-02, Last Score: 15.00, eps: 0.01"
     ]
    },
    {
     "name": "stderr",
     "output_type": "stream",
     "text": [
      "Episode 1600\tAverage Score: 14.47, DQN Avg. Loss: 2.35e-02, Last Score: 10.00\n",
      "Episode 1600\tAverage Score: 14.47, DQN Avg. Loss: 2.35e-02, Last Score: 10.00\n"
     ]
    },
    {
     "name": "stdout",
     "output_type": "stream",
     "text": [
      "Episode 1699\tAverage Score: 14.50, DQN Avg. Loss: 2.30e-02, Last Score: 17.00, eps: 0.01"
     ]
    },
    {
     "name": "stderr",
     "output_type": "stream",
     "text": [
      "Episode 1700\tAverage Score: 14.58, DQN Avg. Loss: 2.56e-02, Last Score: 18.00\n",
      "Episode 1700\tAverage Score: 14.58, DQN Avg. Loss: 2.56e-02, Last Score: 18.00\n"
     ]
    },
    {
     "name": "stdout",
     "output_type": "stream",
     "text": [
      "Episode 1799\tAverage Score: 14.39, DQN Avg. Loss: 2.32e-02, Last Score: 10.00, eps: 0.01"
     ]
    },
    {
     "name": "stderr",
     "output_type": "stream",
     "text": [
      "Episode 1800\tAverage Score: 14.34, DQN Avg. Loss: 2.39e-02, Last Score: 13.00\n",
      "Episode 1800\tAverage Score: 14.34, DQN Avg. Loss: 2.39e-02, Last Score: 13.00\n"
     ]
    },
    {
     "name": "stdout",
     "output_type": "stream",
     "text": [
      "Episode 1899\tAverage Score: 14.55, DQN Avg. Loss: 2.19e-02, Last Score: 13.00, eps: 0.01"
     ]
    },
    {
     "name": "stderr",
     "output_type": "stream",
     "text": [
      "Episode 1900\tAverage Score: 14.49, DQN Avg. Loss: 2.28e-02, Last Score: 7.00\n",
      "Episode 1900\tAverage Score: 14.49, DQN Avg. Loss: 2.28e-02, Last Score: 7.00\n"
     ]
    },
    {
     "name": "stdout",
     "output_type": "stream",
     "text": [
      "Episode 1999\tAverage Score: 14.43, DQN Avg. Loss: 2.15e-02, Last Score: 16.00, eps: 0.01"
     ]
    },
    {
     "name": "stderr",
     "output_type": "stream",
     "text": [
      "Episode 2000\tAverage Score: 14.49, DQN Avg. Loss: 2.25e-02, Last Score: 13.00\n",
      "Episode 2000\tAverage Score: 14.49, DQN Avg. Loss: 2.25e-02, Last Score: 13.00\n",
      "INFO:root:\n",
      "Saving model to DDQN_20_15_8\n",
      "\n",
      "Saving model to DDQN_20_15_8\n"
     ]
    },
    {
     "name": "stdout",
     "output_type": "stream",
     "text": [
      "\r",
      "Episode 2000\tAverage Score: 14.49, DQN Avg. Loss: 2.25e-02, Last Score: 13.00, eps: 0.01"
     ]
    },
    {
     "name": "stderr",
     "output_type": "stream",
     "text": [
      "INFO:root:Elapsed Time: 0 days 14:43:51.947186\n",
      "Elapsed Time: 0 days 14:43:51.947186\n",
      "INFO:root:Average Score last 100 episodes: 14.49\n",
      "Average Score last 100 episodes: 14.49\n"
     ]
    },
    {
     "data": {
      "image/png": "[encoded data removed]",
      "text/plain": [
       "<Figure size 432x288 with 1 Axes>"
      ]
     },
     "metadata": {
      "needs_background": "light"
     },
     "output_type": "display_data"
    }
   ],
   "source": [
    "# Training\n",
    "if mode == \"train\":\n",
    "    agent = DQAgent(state_size=state_size, action_size=action_size,\n",
    "                    hidden_layer_sizes=hidden_layer_sizes, options=options)\n",
    "\n",
    "    scores = unity_monitor.run(env, agent, brain_name, save_every=500, save_path=save_path)\n",
    "    logger.info(\"Average Score last 100 episodes: {}\".format(np.mean(scores[-100:])))"
   ]
  },
  {
   "cell_type": "markdown",
   "metadata": {},
   "source": [
    "Visualize scores"
   ]
  },
  {
   "cell_type": "code",
   "execution_count": 13,
   "metadata": {},
   "outputs": [
    {
     "name": "stderr",
     "output_type": "stream",
     "text": [
      "/Users/quentincangelosi/anaconda3/envs/rl/lib/python3.6/site-packages/seaborn/_decorators.py:43: FutureWarning: Pass the following variables as keyword args: x, y. From version 0.12, the only valid positional argument will be `data`, and passing other arguments without an explicit keyword will result in an error or misinterpretation.\n",
      "  FutureWarning\n"
     ]
    },
    {
     "data": {
      "text/plain": [
       "<Figure size 432x288 with 0 Axes>"
      ]
     },
     "metadata": {},
     "output_type": "display_data"
    },
    {
     "data": {
      "image/png": "[encoded data removed]",
      "text/plain": [
       "<Figure size 1080x576 with 1 Axes>"
      ]
     },
     "metadata": {},
     "output_type": "display_data"
    }
   ],
   "source": [
    "import matplotlib.pyplot as plt\n",
    "from matplotlib import cm\n",
    "from matplotlib.colors import ListedColormap, LinearSegmentedColormap\n",
    "import seaborn as sb\n",
    "import pickle\n",
    "pd.set_option('display.max_columns', None)\n",
    "pd.set_option('display.max_rows', None)\n",
    "sb.set()\n",
    "sb.set_style(\"darkgrid\", {\"axes.facecolor\": \".9\"})\n",
    "sb.despine()\n",
    "sb.set_context(\"talk\")\n",
    "\n",
    "# Let's compare different solutions!\n",
    "\n",
    "solutions_path = [save_path,]\n",
    "df = pd.DataFrame()\n",
    "for path in solutions_path:\n",
    "    fn = f\"{path}/scores.pickle\"\n",
    "    if os.path.exists(fn):\n",
    "        with open(fn, \"rb\") as f:\n",
    "            scores = pickle.load(f)\n",
    "    _df = pd.DataFrame({\"score\": scores})\n",
    "    _df[\"name\"] = path\n",
    "    _df[\"episode\"] = _df.index + 1\n",
    "    _df[\"rolling_score_100\"] = _df[\"score\"].rolling(100).mean()\n",
    "    df = df.append(_df, ignore_index=True)\n",
    "\n",
    "plt.figure(figsize=(15, 8))\n",
    "sb.lineplot(\"episode\", \"rolling_score_100\", hue=\"name\", data=df)\n",
    "plt.axhline(13, c=\"k\", ls=\"--\", label=\"Objective: 13\")\n",
    "plt.legend()\n",
    "plt.show()"
   ]
  },
  {
   "cell_type": "markdown",
   "metadata": {},
   "source": [
    "### 6. Test the Agent"
   ]
  },
  {
   "cell_type": "code",
   "execution_count": 14,
   "metadata": {},
   "outputs": [
    {
     "name": "stderr",
     "output_type": "stream",
     "text": [
      "INFO:root:Loading Agent from DDQN_20_15_8\n",
      "Loading Agent from DDQN_20_15_8\n",
      "INFO:root:Initialized model: Sequential(\n",
      "  (fc0): Linear(in_features=37, out_features=20, bias=True)\n",
      "  (relu0): ReLU()\n",
      "  (fc1): Linear(in_features=20, out_features=15, bias=True)\n",
      "  (relu1): ReLU()\n",
      "  (fc2): Linear(in_features=15, out_features=8, bias=True)\n",
      "  (relu2): ReLU()\n",
      "  (output): Linear(in_features=8, out_features=4, bias=True)\n",
      "  (softmax): Softmax(dim=1)\n",
      ")\n",
      "Initialized model: Sequential(\n",
      "  (fc0): Linear(in_features=37, out_features=20, bias=True)\n",
      "  (relu0): ReLU()\n",
      "  (fc1): Linear(in_features=20, out_features=15, bias=True)\n",
      "  (relu1): ReLU()\n",
      "  (fc2): Linear(in_features=15, out_features=8, bias=True)\n",
      "  (relu2): ReLU()\n",
      "  (output): Linear(in_features=8, out_features=4, bias=True)\n",
      "  (softmax): Softmax(dim=1)\n",
      ")\n"
     ]
    },
    {
     "name": "stdout",
     "output_type": "stream",
     "text": [
      "Episode 99\tAverage Score: 14.41, DQN Avg. Loss: inf, Last Score: 6.00, eps: 0.000"
     ]
    },
    {
     "name": "stderr",
     "output_type": "stream",
     "text": [
      "Episode 100\tAverage Score: 14.38, DQN Avg. Loss: inf, Last Score: 11.00\n",
      "Episode 100\tAverage Score: 14.38, DQN Avg. Loss: inf, Last Score: 11.00\n"
     ]
    },
    {
     "name": "stdout",
     "output_type": "stream",
     "text": [
      "\r",
      "Episode 100\tAverage Score: 14.38, DQN Avg. Loss: inf, Last Score: 11.00, eps: 0.00"
     ]
    },
    {
     "name": "stderr",
     "output_type": "stream",
     "text": [
      "INFO:root:Elapsed Time: 0 days 00:50:02.530674\n",
      "Elapsed Time: 0 days 00:50:02.530674\n",
      "INFO:root:Test Score over 100 episodes: 14.38\n",
      "Test Score over 100 episodes: 14.38\n"
     ]
    },
    {
     "data": {
      "image/png": "[encoded data removed]",
      "text/plain": [
       "<Figure size 432x288 with 1 Axes>"
      ]
     },
     "metadata": {},
     "output_type": "display_data"
    }
   ],
   "source": [
    "# Testing\n",
    "mode = \"test\"\n",
    "agent = DQAgent.load(filepath=save_path, mode=\"test\")\n",
    "scores = unity_monitor.run(env, agent, brain_name, n_episodes=100, length_episode=1e6, mode=\"test\")\n",
    "logger.info(f\"Test Score over {len(scores)} episodes: {np.mean(scores)}\")"
   ]
  },
  {
   "cell_type": "code",
   "execution_count": 15,
   "metadata": {},
   "outputs": [
    {
     "name": "stderr",
     "output_type": "stream",
     "text": [
      "INFO:root:Closing...\n",
      "Closing...\n"
     ]
    }
   ],
   "source": [
    "# When finished, you can close the environment.\n",
    "logger.info(\"Closing...\")\n",
    "env.close()"
   ]
  },
  {
   "cell_type": "code",
   "execution_count": null,
   "metadata": {},
   "outputs": [],
   "source": []
  }
 ],
 "metadata": {
  "kernelspec": {
   "display_name": "rl",
   "language": "python",
   "name": "rl"
  },
  "language_info": {
   "codemirror_mode": {
    "name": "ipython",
    "version": 3
   },
   "file_extension": ".py",
   "mimetype": "text/x-python",
   "name": "python",
   "nbconvert_exporter": "python",
   "pygments_lexer": "ipython3",
   "version": "3.6.12"
  }
 },
 "nbformat": 4,
 "nbformat_minor": 4
}
